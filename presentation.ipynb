{
 "cells": [
  {
   "cell_type": "markdown",
   "metadata": {
    "slideshow": {
     "slide_type": "slide"
    }
   },
   "source": [
    "<h1 style=\"text-align: center;\">A Whirlwind Tour of Git(hub)</h1>\n",
    "\n",
    "<h2 style=\"text-align: center;\">Breakout Session</h2>\n",
    "\n",
    "\n",
    "<p style=\"text-align: center; font-style: italic;\">Jacob T. Fisher & Frederic R. Hopp</p>"
   ]
  },
  {
   "cell_type": "markdown",
   "metadata": {
    "slideshow": {
     "slide_type": "slide"
    }
   },
   "source": [
    "# Introduction\n",
    "\n",
    "\n",
    "**Git** is a **version control system (VCS)** that lets you track changes to files over time. These files can be any kind of file (eg doc, pdf, xls), but free text differences are most easily visible (eg txt, csv, md). You can rollback changes made by you, or others. This facilitates a **playground for collaboration**, without fear of experimentation (you can always rollback changes).\n",
    "\n",
    "***\n",
    "\n",
    "**Github** is a **website** for storing your **git versioned files** remotely. It has many nice features to be able to visualize differences in files. It's mostly designed to facilitate a technical conversation between commits, pull requests, issues and particular lines of code. It's also great for **project management**, with the ability to link issues, milestones and commits."
   ]
  },
  {
   "cell_type": "markdown",
   "metadata": {
    "slideshow": {
     "slide_type": "slide"
    }
   },
   "source": [
    "# Why `git`?\n",
    "\n",
    "- Avoids the problem of multiple files for version control (`code_final.py`, `code_final_final.py`, etc)\n",
    "- Makes code/data catastrophes less likely (\"oops I accidentally deleted everything\")\n",
    "- Makes sharing across teams more useful. Everyone has the same \"ground truth.\"\n",
    "- Transparency, reproducibility, openness to collaboration."
   ]
  },
  {
   "cell_type": "markdown",
   "metadata": {
    "slideshow": {
     "slide_type": "subslide"
    }
   },
   "source": [
    "# Visualization of the `git` process\n",
    "\n",
    "![git viz](assets/github-flow.png)"
   ]
  },
  {
   "cell_type": "markdown",
   "metadata": {
    "slideshow": {
     "slide_type": "slide"
    }
   },
   "source": [
    "# Agenda and Breakout Goals\n",
    "\n",
    "- Basic understanding of github **components** and **environment**\n",
    "- Setting up a **github project** \n",
    "- Effective collaboration via **git workflows** "
   ]
  },
  {
   "cell_type": "markdown",
   "metadata": {
    "slideshow": {
     "slide_type": "slide"
    }
   },
   "source": [
    "# Software Setup\n",
    "\n",
    "## Git, Github\n",
    "\n",
    "- **Git**. You may already have git installed. Try going to the terminal and type `git --version`. If not, then install from https://git-scm.com/downloads.\n",
    "\n",
    "- **Github**. Create an account at http://github.com, if you don't already have one. For username, we recommend all lower-case letters, short as you can. We recommend using your university email, since you can request free private repositories via GitHub Education discount."
   ]
  },
  {
   "cell_type": "markdown",
   "metadata": {
    "slideshow": {
     "slide_type": "slide"
    }
   },
   "source": [
    "Configure git with global commands. On your terminal, type the following:\n",
    "```\n",
    "# display your version of git\n",
    "git --version\n",
    "\n",
    "# check if you already have configutations setup\n",
    "git config --list\n",
    "\n",
    "# replace USER with your Github user account\n",
    "git config –-global user.name USER\n",
    "\n",
    "# replace USER@UMAIL.UCSB.EDU with the email you used to register with Github\n",
    "git config –-global user.email USER@MSU.EDU\n",
    "\n",
    "# list your config to confirm user.* variables set\n",
    "git config --list\n",
    "```"
   ]
  },
  {
   "cell_type": "markdown",
   "metadata": {
    "slideshow": {
     "slide_type": "slide"
    }
   },
   "source": [
    "# Github Components\n",
    "\n",
    "Github essentially consists of `repositories` (think folders) where you can store any type of file. An added benefit is PDFs, notebooks, and even slideshows (like this one!) are rendered automatically and can be viewed from any browser. "
   ]
  },
  {
   "cell_type": "markdown",
   "metadata": {
    "slideshow": {
     "slide_type": "subslide"
    }
   },
   "source": [
    "## Forks 🍴 - Clones 👽 - Branches 🌲\n",
    "\n",
    "Let's start getting your first github directory. In github, there are different ways to \"download\" a repository.\n",
    "\n",
    "Mainly, we distinguish between `forking` and `cloning`. The key difference between clone and fork comes down to how much control and independence you want over the repository once you've copied it."
   ]
  },
  {
   "cell_type": "markdown",
   "metadata": {
    "slideshow": {
     "slide_type": "subslide"
    }
   },
   "source": [
    "## Forking \n",
    "\n",
    "`Forking` is used to either propose changes to someone else's project to which **you do not have write access**, or to use someone else's project as a starting point for your own idea. You can fork a repository to create a copy of the repository and make changes without affecting the upstream repository. To learn more about forking, see [forks](https://docs.github.com/en/get-started/quickstart/fork-a-repo)\n",
    "\n",
    "## Cloning \n",
    "\n",
    "In contrast to a fork, `cloning` creates a **linked copy** that will continue to **synchronize** with the target repository."
   ]
  },
  {
   "cell_type": "markdown",
   "metadata": {
    "slideshow": {
     "slide_type": "subslide"
    }
   },
   "source": [
    "## Branches\n",
    "\n",
    "A `branch` in Git is just like a branch of a tree. When you create a new repository, what you actually do is create a **main branch** and when you upload edits (make `commits`), you only commit to this main branch. This main branch typically represents a stable version of your code and this will be the code which is released or published.\n",
    "\n",
    "So, this is the reason you do not probably want to try out new features or new code on this master branch. So, if you want to add a new feature to your application you’d have to create some kind of isolated environment to try out new features and if this works, you can go ahead and merge them into the main branch. \n",
    "\n",
    "This is what branching is all about; it is a Git function that essentially makes a copy of the code, allowing you to make changes on a particular copy and then merging the changes back to the main branch."
   ]
  },
  {
   "cell_type": "markdown",
   "metadata": {
    "slideshow": {
     "slide_type": "slide"
    },
    "vscode": {
     "languageId": "raw"
    }
   },
   "source": [
    "# Interactive Demo Overview\n",
    "\n",
    "Now that we've covered the theory, let's get going! \n",
    "\n",
    "This repository contains a interactive tutorial with: 4 progressive exercise modules, as well as some hands-on practice files, and some step-by-step instructions, as well as some collaborative activities and real-world applications. We definitely won't get through all of it in the time that we have, but we'll get as far as we can.\n"
   ]
  },
  {
   "cell_type": "markdown",
   "metadata": {
    "slideshow": {
     "slide_type": "subslide"
    },
    "vscode": {
     "languageId": "raw"
    }
   },
   "source": [
    "# Repository Structure\n",
    "\n",
    "```\n",
    "git-intro-ica-25/\n",
    "├── 📊 presentation.ipynb          # This presentation\n",
    "├── 📝 README.md                   # Getting started guide\n",
    "├── 🎯 exercises/                  # 4 hands-on modules\n",
    "│   ├── 01-basic-git-operations.md\n",
    "│   ├── 02-branching-and-merging.md\n",
    "│   ├── 03-collaborative-workflows.md\n",
    "│   └── 04-advanced-features.md\n",
    "├── 🛠️  demo-files/                # Practice files\n",
    "│   ├── sample-project.py\n",
    "│   ├── conflict-example.txt\n",
    "│   └── student-checklist.md\n",
    "├── 🖼️  assets/                    # Images and resources\n",
    "└── 👨‍🏫 INSTRUCTOR_GUIDE.md        # Teaching guide\n",
    "```\n"
   ]
  },
  {
   "cell_type": "markdown",
   "metadata": {
    "slideshow": {
     "slide_type": "slide"
    },
    "vscode": {
     "languageId": "raw"
    }
   },
   "source": [
    "# Exercise 1: Basic Git Operations\n",
    "\n",
    "## What You'll Learn\n",
    "- The Git workflow: **Working Directory → Staging → Repository**\n",
    "- Essential commands: `git status`, `git add`, `git commit`\n",
    "- Understanding tracked vs untracked files\n",
    "- Viewing commit history\n",
    "\n",
    "## What You'll Do\n",
    "1. Create your first file\n",
    "2. Stage and commit changes\n",
    "3. View your commit history\n",
    "4. Practice with multiple files"
   ]
  },
  {
   "cell_type": "markdown",
   "metadata": {
    "slideshow": {
     "slide_type": "slide"
    },
    "vscode": {
     "languageId": "raw"
    }
   },
   "source": [
    "# Exercise 2: Branching and Merging\n",
    "\n",
    "## What You'll Learn\n",
    "- Creating and switching between branches\n",
    "- Understanding parallel development\n",
    "- Merging branches together\n",
    "- **Resolving merge conflicts** 💥\n",
    "\n",
    "## What You'll Do\n",
    "1. Create your first feature branch\n",
    "2. Make changes on different branches\n",
    "3. Merge branches back to main\n",
    "4. Practice conflict resolution\n"
   ]
  },
  {
   "cell_type": "markdown",
   "metadata": {
    "slideshow": {
     "slide_type": "slide"
    },
    "vscode": {
     "languageId": "raw"
    }
   },
   "source": [
    "# Exercise 3: Collaborative Workflows\n",
    "\n",
    "## What You'll Learn\n",
    "- Fork and Pull Request workflow\n",
    "- GitHub collaboration features\n",
    "- Code review process\n",
    "- Issue management\n",
    "\n",
    "## What You'll Do\n",
    "1. Fork this repository to your account\n",
    "2. Create feature branches\n",
    "3. Submit pull requests\n",
    "4. Review classmates' code\n",
    "5. Merge contributions"
   ]
  },
  {
   "cell_type": "markdown",
   "metadata": {
    "slideshow": {
     "slide_type": "slide"
    },
    "vscode": {
     "languageId": "raw"
    }
   },
   "source": [
    "# Exercise 4: Advanced Features\n",
    "\n",
    "## What You'll Learn\n",
    "- Git tags for versioning\n",
    "- **GitHub Actions** for automation\n",
    "- Advanced Git commands (stash, rebase, cherry-pick)\n",
    "- Professional workflows\n",
    "\n",
    "## What You'll Do\n",
    "1. Create version tags\n",
    "2. Set up automated testing\n",
    "3. Explore advanced Git features\n",
    "4. Learn industry best practices\n",
    "\n",
    "**Key Concept**: Automation and advanced features for professional development!\n"
   ]
  },
  {
   "cell_type": "markdown",
   "metadata": {
    "slideshow": {
     "slide_type": "slide"
    },
    "vscode": {
     "languageId": "raw"
    }
   },
   "source": [
    "# Getting Started\n",
    "\n",
    "## Step 1: Fork the Repository\n",
    "1. Go to the repository on GitHub\n",
    "2. Click the **\"Fork\"** button in the top right\n",
    "3. Choose your account as the destination\n",
    "\n",
    "## Step 2: Clone Your Fork\n",
    "```bash\n",
    "git clone https://github.com/YOUR_USERNAME/git-intro-ica-25.git\n",
    "cd git-intro-ica-25\n",
    "```\n",
    "\n",
    "## Step 3: Start with Exercise 1\n",
    "Open `exercises/01-basic-git-operations.md` and follow along!\n",
    "\n",
    "**Ready?** Let's begin our Git journey! 🚀\n"
   ]
  }
 ],
 "metadata": {
  "kernelspec": {
   "display_name": "Python 3",
   "language": "python",
   "name": "python3"
  },
  "language_info": {
   "codemirror_mode": {
    "name": "ipython",
    "version": 3
   },
   "file_extension": ".py",
   "mimetype": "text/x-python",
   "name": "python",
   "nbconvert_exporter": "python",
   "pygments_lexer": "ipython3",
   "version": "3.11.13"
  }
 },
 "nbformat": 4,
 "nbformat_minor": 2
}
